{
  "nbformat": 4,
  "nbformat_minor": 0,
  "metadata": {
    "colab": {
      "private_outputs": true,
      "provenance": []
    },
    "kernelspec": {
      "name": "python3",
      "display_name": "Python 3"
    },
    "language_info": {
      "name": "python"
    }
  },
  "cells": [
    {
      "cell_type": "code",
      "execution_count": null,
      "metadata": {
        "id": "ZaDEUfdjb5Jp"
      },
      "outputs": [],
      "source": [
        "import numpy as np\n",
        "import pandas as pd\n",
        "import matplotlib.pyplot as plt\n",
        "import seaborn as sns"
      ]
    },
    {
      "cell_type": "code",
      "source": [
        "df = pd.read_csv(r\"/content/Titanic-Dataset.csv\")"
      ],
      "metadata": {
        "id": "d5IbbtZTcNIF"
      },
      "execution_count": null,
      "outputs": []
    },
    {
      "cell_type": "code",
      "source": [
        "df.head()"
      ],
      "metadata": {
        "id": "YetnWVBdcy72"
      },
      "execution_count": null,
      "outputs": []
    },
    {
      "cell_type": "code",
      "source": [
        "df.shape"
      ],
      "metadata": {
        "id": "BLL_kHCVc3Gt"
      },
      "execution_count": null,
      "outputs": []
    },
    {
      "cell_type": "code",
      "source": [
        "df.info()"
      ],
      "metadata": {
        "id": "MZwNMWQec7Wh"
      },
      "execution_count": null,
      "outputs": []
    },
    {
      "cell_type": "code",
      "source": [
        "df.describe()"
      ],
      "metadata": {
        "id": "APBl548gc_jy"
      },
      "execution_count": null,
      "outputs": []
    },
    {
      "cell_type": "code",
      "source": [
        "df.isnull().sum()"
      ],
      "metadata": {
        "id": "A8s7DNZddCqm"
      },
      "execution_count": null,
      "outputs": []
    },
    {
      "cell_type": "code",
      "source": [
        "df.drop(columns=\"Cabin\",axis=1,inplace=True)"
      ],
      "metadata": {
        "id": "fQ0lvk6XdHVJ"
      },
      "execution_count": null,
      "outputs": []
    },
    {
      "cell_type": "code",
      "source": [
        "df['Age'].fillna(df['Age'].mean(),inplace=True)"
      ],
      "metadata": {
        "id": "f5BWhn5odOKm"
      },
      "execution_count": null,
      "outputs": []
    },
    {
      "cell_type": "code",
      "source": [
        "df['Embarked'].fillna(df['Embarked'].mode()[0],inplace=True)"
      ],
      "metadata": {
        "id": "MLIB192TdU95"
      },
      "execution_count": null,
      "outputs": []
    },
    {
      "cell_type": "code",
      "source": [
        "df.isnull().sum().sum()"
      ],
      "metadata": {
        "id": "9C9Y9fhwdgkY"
      },
      "execution_count": null,
      "outputs": []
    },
    {
      "cell_type": "code",
      "source": [
        "df.duplicated().sum()"
      ],
      "metadata": {
        "id": "bpRVw5DHdjGR"
      },
      "execution_count": null,
      "outputs": []
    },
    {
      "cell_type": "code",
      "source": [
        "df['Survived'].value_counts()"
      ],
      "metadata": {
        "id": "WlkhWKbndmlu"
      },
      "execution_count": null,
      "outputs": []
    },
    {
      "cell_type": "code",
      "source": [
        "sns.countplot(x='Survived',data=df,palette='viridis',)\n",
        "plt.xlabel(\"Survival status\")\n",
        "plt.ylabel(\"Number of people\")\n",
        "plt.xticks(ticks=[0,1],labels=['Not survived','survived'])\n",
        "plt.show()"
      ],
      "metadata": {
        "id": "8ZO-g46VdrYu"
      },
      "execution_count": null,
      "outputs": []
    },
    {
      "cell_type": "code",
      "source": [
        "plt.pie(df['Survived'].value_counts(),explode=[0,0.04],autopct=\"%1.2f%%\",labels=['Not survived','Survived'])\n",
        "plt.title(\"Survival of people\")\n",
        "plt.show()"
      ],
      "metadata": {
        "id": "cYcW5qO9d7qJ"
      },
      "execution_count": null,
      "outputs": []
    },
    {
      "cell_type": "code",
      "source": [
        "df['Sex'].unique()"
      ],
      "metadata": {
        "id": "1i3Lsg4VeIh6"
      },
      "execution_count": null,
      "outputs": []
    },
    {
      "cell_type": "code",
      "source": [
        "sns.countplot(x='Sex',data=df,palette='viridis',)\n",
        "plt.xlabel(\"Gender\")\n",
        "plt.ylabel(\"Number of people\")\n",
        "plt.show()"
      ],
      "metadata": {
        "id": "f1aLJAUZeKRu"
      },
      "execution_count": null,
      "outputs": []
    },
    {
      "cell_type": "code",
      "source": [
        "sns.countplot(x='Survived',hue='Sex',data=df,palette='viridis',)\n",
        "plt.xlabel(\"Survival status\")\n",
        "plt.ylabel(\"Number of people\")\n",
        "plt.xticks(ticks=[0,1],labels=['Not survived','survived'])\n",
        "plt.show()"
      ],
      "metadata": {
        "id": "fxLpXvvteyiF"
      },
      "execution_count": null,
      "outputs": []
    },
    {
      "cell_type": "code",
      "source": [
        "df[df['Sex'] == 'male'].Survived.groupby(df.Survived).count().plot(kind='pie',\n",
        "figsize=(3, 6),explode=[0,0.05],autopct='%1.1f%%',labels=[\"Not survived\",\"Survived\"])\n",
        "plt.ylabel(\"\")\n",
        "plt.title(\"Male survival rate\")\n",
        "plt.show()"
      ],
      "metadata": {
        "id": "br7VO2hLgbnp"
      },
      "execution_count": null,
      "outputs": []
    },
    {
      "cell_type": "code",
      "source": [
        "df[df['Sex'] == 'female'].Survived.groupby(df.Survived).count().plot(kind='pie',\n",
        "figsize=(3, 6),explode=[0,0.05],autopct='%1.1f%%',labels=[\"Not survived\",\"Survived\"])\n",
        "plt.ylabel(\"\")\n",
        "plt.title(\"Female survival rate\")\n",
        "plt.show()\n"
      ],
      "metadata": {
        "id": "SENMgMZPguBz"
      },
      "execution_count": null,
      "outputs": []
    },
    {
      "cell_type": "code",
      "source": [
        "sns.countplot(x='Pclass',data=df,palette='viridis',)\n",
        "plt.xlabel(\"Pclass\")\n",
        "plt.ylabel(\"Number of people\")\n",
        "plt.show()"
      ],
      "metadata": {
        "id": "-UQmIwdlgvd1"
      },
      "execution_count": null,
      "outputs": []
    },
    {
      "cell_type": "code",
      "source": [
        "sns.countplot(x='Survived',hue='Pclass',data=df,palette='viridis',)\n",
        "plt.xlabel(\"Survival status\")\n",
        "plt.ylabel(\"Number of people\")\n",
        "plt.xticks(ticks=[0,1],labels=['Not survived','survived'])\n",
        "plt.show()"
      ],
      "metadata": {
        "id": "gHsZnq0Hg1WF"
      },
      "execution_count": null,
      "outputs": []
    },
    {
      "cell_type": "code",
      "source": [
        "sns.catplot(x = 'Pclass', hue = 'Survived', col = 'Sex', kind = 'count', data =\n",
        "df,palette='viridis' )\n",
        "plt.tight_layout()"
      ],
      "metadata": {
        "id": "M8oOzzVig51Y"
      },
      "execution_count": null,
      "outputs": []
    },
    {
      "cell_type": "code",
      "source": [
        "sns.countplot(x='Embarked',data=df,palette='coolwarm',)\n",
        "plt.xlabel(\"Embarked\")\n",
        "plt.ylabel(\"Number of people\")\n",
        "plt.show()"
      ],
      "metadata": {
        "id": "cRLVXBaKg-WI"
      },
      "execution_count": null,
      "outputs": []
    },
    {
      "cell_type": "code",
      "source": [
        "sns.countplot(x='Survived',hue='Embarked',data=df,palette='viridis',)\n",
        "plt.xlabel(\"Survival status\")\n",
        "plt.ylabel(\"Number of people\")\n",
        "plt.xticks(ticks=[0,1],labels=['Not survived','survived'])\n",
        "plt.show()"
      ],
      "metadata": {
        "id": "VDwUJtA7hAH8"
      },
      "execution_count": null,
      "outputs": []
    },
    {
      "cell_type": "code",
      "source": [
        "fig,axes = plt.subplots(1, 2, figsize=(12, 6))\n",
        "sns.countplot(x='SibSp',data=df,ax=axes[0],palette='husl')\n",
        "sns.countplot(x='Parch',data=df,ax=axes[1],palette='husl')\n",
        "plt.show()"
      ],
      "metadata": {
        "id": "43cgN6EthFTq"
      },
      "execution_count": null,
      "outputs": []
    },
    {
      "cell_type": "code",
      "source": [
        "sns.countplot(x ='Survived', hue='SibSp',data=df,palette='viridis')\n",
        "plt.xticks(ticks=[0,1],labels=['Not survived','survived'])\n",
        "plt.xlabel(\"Survival status\")\n",
        "plt.ylabel(\"Number of people\")\n",
        "plt.title(\"Survival population of Sibsp\")\n",
        "plt.show()\n",
        "\n",
        "sns.countplot(x ='Survived',hue='Parch',data=df,palette='viridis')\n",
        "plt.xticks(ticks=[0,1],labels=['Not survived','survived'])\n",
        "plt.title(\"Survival population of Parch\")\n",
        "plt.xlabel(\"Survival status\")\n",
        "plt.ylabel(\"Number of people\")\n",
        "plt.show()"
      ],
      "metadata": {
        "id": "PMaPfPSAhcZM"
      },
      "execution_count": null,
      "outputs": []
    },
    {
      "cell_type": "code",
      "source": [
        "fig,axes = plt.subplots(1, 2, figsize=(12, 6))\n",
        "sns.histplot(df['Fare'], kde=True,ax=axes[0])\n",
        "sns.histplot(df['Age'].dropna(),kde=True,ax=axes[1])\n",
        "plt.show()\n"
      ],
      "metadata": {
        "id": "O33ERp6lhiYG"
      },
      "execution_count": null,
      "outputs": []
    },
    {
      "cell_type": "code",
      "source": [
        "cut_points = [ 0, 5, 12, 18, 35, 60, 100]\n",
        "label_names = [ 'Infant', \"Child\", 'Teenager', \"Young Adult\", 'Adult', 'Senior']\n",
        "df['Age_categories'] = pd.cut(df['Age'], bins=cut_points, labels=label_names,right=False)\n",
        "age_cat_pivot = df.pivot_table(index=\"Age_categories\", values=\"Survived\")\n",
        "colors = ['blue', 'green', 'orange', 'purple', 'pink', 'brown']\n",
        "fig, ax = plt.subplots()\n",
        "bars = ax.bar(age_cat_pivot.index, age_cat_pivot['Survived'], color=colors)\n",
        "handles = [plt.Rectangle((0, 0), 1, 1, color=colors[i]) for i in\n",
        "range(len(colors))]\n",
        "ax.legend(handles, label_names)\n",
        "ax.set_title('Survival Rates by Age Category')\n",
        "ax.set_xlabel('Age Category')\n",
        "ax.set_ylabel('Survival Rate')\n",
        "plt.xticks(rotation=40)\n",
        "plt.show()"
      ],
      "metadata": {
        "id": "XBU1woXah0n8"
      },
      "execution_count": null,
      "outputs": []
    },
    {
      "cell_type": "code",
      "source": [
        "sns.histplot(x='Fare',hue='Survived',data=df,kde=True)\n",
        "plt.legend(labels=['survived','not survived'])\n",
        "plt.show()"
      ],
      "metadata": {
        "id": "t90uKBkEiIhI"
      },
      "execution_count": null,
      "outputs": []
    },
    {
      "cell_type": "code",
      "source": [
        "sns.histplot(x='Age',hue='Survived',data=df,kde=True)\n",
        "plt.legend(labels=['survived','not survived'])\n",
        "plt.show()"
      ],
      "metadata": {
        "id": "KZMNJtZviO-d"
      },
      "execution_count": null,
      "outputs": []
    },
    {
      "cell_type": "code",
      "source": [
        "df.replace({'Sex':{'male':1,'female':0},'Embarked':{'S':0,'C':1,'Q':2}},inplace=True)"
      ],
      "metadata": {
        "id": "f6kmBeeniW8h"
      },
      "execution_count": null,
      "outputs": []
    },
    {
      "cell_type": "code",
      "source": [
        "df.head()"
      ],
      "metadata": {
        "id": "FgvIi604ia5m"
      },
      "execution_count": null,
      "outputs": []
    },
    {
      "cell_type": "code",
      "source": [
        "df_num = df[['Fare','Parch','SibSp','Age','Sex','Pclass','Embarked','Survived']]\n",
        "sns.heatmap(df_num.corr(),annot=True)\n",
        "plt.show()"
      ],
      "metadata": {
        "id": "TiPmgfJHidZt"
      },
      "execution_count": null,
      "outputs": []
    }
  ]
}